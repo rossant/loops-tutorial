{
 "metadata": {
  "celltoolbar": "Slideshow",
  "name": "",
  "signature": "sha256:10acff9f0b24e2100d21eb04a468d067829b7da7a0488f8f353a5bb482e5bc54"
 },
 "nbformat": 3,
 "nbformat_minor": 0,
 "worksheets": [
  {
   "cells": [
    {
     "cell_type": "markdown",
     "metadata": {
      "slideshow": {
       "slide_type": "slide"
      }
     },
     "source": [
      "# Introduction \u00e0 Vispy"
     ]
    },
    {
     "cell_type": "markdown",
     "metadata": {},
     "source": [
      "* Librairie Python open-source\n",
      "* Visualisation interactive scientifique\n",
      "* Ax\u00e9e sur la performance et le \"Big Data\"\n",
      "* Utilise le GPU \u00e0 l'aide d'OpenGL"
     ]
    },
    {
     "cell_type": "markdown",
     "metadata": {
      "slideshow": {
       "slide_type": "subslide"
      }
     },
     "source": [
      "![](images/cpu-vs-gpu.PNG)"
     ]
    },
    {
     "cell_type": "markdown",
     "metadata": {
      "slideshow": {
       "slide_type": "slide"
      }
     },
     "source": [
      "## OpenGL\n",
      "\n",
      "* API ouverte cross-plateformes de programmation graphique\n",
      "* Principalement d\u00e9velopp\u00e9 pour les jeux vid\u00e9o 3D et la CAO\n",
      "* Difficile \u00e0 utiliser, n\u00e9cessite des comp\u00e9tences pointues"
     ]
    },
    {
     "cell_type": "markdown",
     "metadata": {
      "slideshow": {
       "slide_type": "subslide"
      }
     },
     "source": [
      "![](images/agg-circles-detail.PNG)"
     ]
    },
    {
     "cell_type": "markdown",
     "metadata": {
      "slideshow": {
       "slide_type": "slide"
      }
     },
     "source": [
      "## Hello World avec Vispy"
     ]
    },
    {
     "cell_type": "code",
     "collapsed": false,
     "input": [
      "from vispy import app\n",
      "from vispy import gloo"
     ],
     "language": "python",
     "metadata": {
      "slideshow": {
       "slide_type": "subslide"
      }
     },
     "outputs": [],
     "prompt_number": 1
    },
    {
     "cell_type": "code",
     "collapsed": false,
     "input": [
      "c = app.Canvas(show=True, close_keys='escape')"
     ],
     "language": "python",
     "metadata": {
      "slideshow": {
       "slide_type": "subslide"
      }
     },
     "outputs": [
      {
       "output_type": "stream",
       "stream": "stdout",
       "text": [
        "INFO: Selected backend _pyqt4\n"
       ]
      },
      {
       "output_type": "stream",
       "stream": "stderr",
       "text": [
        "INFO:vispy:Selected backend _pyqt4\n"
       ]
      }
     ],
     "prompt_number": 2
    },
    {
     "cell_type": "code",
     "collapsed": false,
     "input": [
      "@c.connect\n",
      "def on_mouse_move(event):\n",
      "    x, y = event.pos\n",
      "    w, h = c.size\n",
      "    gloo.clear(color=(x/float(w), 0.0, y/float(h), 1.0))\n",
      "    c.update()"
     ],
     "language": "python",
     "metadata": {
      "slideshow": {
       "slide_type": "subslide"
      }
     },
     "outputs": [],
     "prompt_number": 3
    },
    {
     "cell_type": "code",
     "collapsed": false,
     "input": [
      "app.run()"
     ],
     "language": "python",
     "metadata": {
      "slideshow": {
       "slide_type": "subslide"
      }
     },
     "outputs": [],
     "prompt_number": 4
    },
    {
     "cell_type": "markdown",
     "metadata": {
      "slideshow": {
       "slide_type": "slide"
      }
     },
     "source": [
      "## OpenGL moderne\n",
      "\n",
      "![](images/gl-history.PNG)"
     ]
    },
    {
     "cell_type": "markdown",
     "metadata": {
      "slideshow": {
       "slide_type": "slide"
      }
     },
     "source": [
      "## Pipeline OpenGL"
     ]
    },
    {
     "cell_type": "markdown",
     "metadata": {},
     "source": [
      "![](images/GLES-Pipeline-2.PNG)"
     ]
    },
    {
     "cell_type": "markdown",
     "metadata": {
      "slideshow": {
       "slide_type": "subslide"
      }
     },
     "source": [
      "![](images/gl-pipeline.PNG)"
     ]
    },
    {
     "cell_type": "markdown",
     "metadata": {
      "slideshow": {
       "slide_type": "subslide"
      }
     },
     "source": [
      "## Primitives\n",
      "\n",
      "![](images/gl-primitives.PNG)"
     ]
    },
    {
     "cell_type": "markdown",
     "metadata": {
      "slideshow": {
       "slide_type": "slide"
      }
     },
     "source": [
      "## Introduction aux shaders"
     ]
    },
    {
     "cell_type": "code",
     "collapsed": false,
     "input": [
      "from vispy import gloo\n",
      "from vispy import app\n",
      "import numpy as np"
     ],
     "language": "python",
     "metadata": {
      "slideshow": {
       "slide_type": "subslide"
      }
     },
     "outputs": [],
     "prompt_number": 5
    },
    {
     "cell_type": "code",
     "collapsed": false,
     "input": [
      "n = 100\n",
      "position = np.zeros((2*n, 2)).astype(np.float32)\n",
      "position[:,0] = np.repeat(np.linspace(-1, 1, n), 2)\n",
      "position[::2,1] = -.2\n",
      "position[1::2,1] = .2"
     ],
     "language": "python",
     "metadata": {
      "slideshow": {
       "slide_type": "subslide"
      }
     },
     "outputs": [],
     "prompt_number": 6
    },
    {
     "cell_type": "code",
     "collapsed": false,
     "input": [
      "VERT_SHADER = \"\"\"\n",
      "attribute vec2 a_position;\n",
      "void main() {\n",
      "    gl_Position = vec4(a_position, 0.0, 1.0);\n",
      "}\n",
      "\"\"\""
     ],
     "language": "python",
     "metadata": {
      "slideshow": {
       "slide_type": "subslide"
      }
     },
     "outputs": [],
     "prompt_number": 7
    },
    {
     "cell_type": "code",
     "collapsed": false,
     "input": [
      "FRAG_SHADER = \"\"\"\n",
      "void main() {\n",
      "    gl_FragColor = vec4(1.0, 0.0, 0.0, 1.0);\n",
      "}\n",
      "\"\"\""
     ],
     "language": "python",
     "metadata": {
      "slideshow": {
       "slide_type": "subslide"
      }
     },
     "outputs": [],
     "prompt_number": 8
    },
    {
     "cell_type": "code",
     "collapsed": false,
     "input": [
      "class Canvas(app.Canvas):\n",
      "    def __init__(self):\n",
      "        app.Canvas.__init__(self, close_keys='escape')\n",
      "        self.program = gloo.Program(VERT_SHADER, FRAG_SHADER)\n",
      "        self.program['a_position'] = position\n",
      "\n",
      "    def on_resize(self, event):\n",
      "        width, height = event.size\n",
      "        gloo.set_viewport(0, 0, width, height)\n",
      "\n",
      "    def on_draw(self, event):\n",
      "        gloo.clear(color=(0.0, 0.0, 0.0, 1.0))\n",
      "        self.program.draw('triangle_strip')"
     ],
     "language": "python",
     "metadata": {
      "slideshow": {
       "slide_type": "subslide"
      }
     },
     "outputs": [],
     "prompt_number": 9
    },
    {
     "cell_type": "code",
     "collapsed": false,
     "input": [
      "c = Canvas()\n",
      "c.show()\n",
      "app.run()"
     ],
     "language": "python",
     "metadata": {
      "slideshow": {
       "slide_type": "subslide"
      }
     },
     "outputs": [],
     "prompt_number": 10
    },
    {
     "cell_type": "markdown",
     "metadata": {
      "slideshow": {
       "slide_type": "slide"
      }
     },
     "source": [
      "## Des shaders dynamiques"
     ]
    },
    {
     "cell_type": "code",
     "collapsed": false,
     "input": [
      "color = np.linspace(0., 1., 2*n).astype(np.float32)"
     ],
     "language": "python",
     "metadata": {
      "slideshow": {
       "slide_type": "subslide"
      }
     },
     "outputs": [],
     "prompt_number": 11
    },
    {
     "cell_type": "code",
     "collapsed": false,
     "input": [
      "VERT_SHADER = \"\"\"\n",
      "const float M_PI = 3.14159265358979323846;\n",
      "\n",
      "attribute vec2 a_position;\n",
      "\n",
      "attribute float a_color;\n",
      "varying float v_color;\n",
      "\n",
      "uniform float u_time;\n",
      "\n",
      "void main (void) {\n",
      "    float x = a_position.x;\n",
      "    float y = a_position.y + .1 * cos(2.0*M_PI*(u_time-.5*x));\n",
      "\n",
      "    gl_Position = vec4(x, y, 0.0, 1.0);\n",
      "    v_color = a_color;\n",
      "}\n",
      "\"\"\""
     ],
     "language": "python",
     "metadata": {
      "slideshow": {
       "slide_type": "subslide"
      }
     },
     "outputs": [],
     "prompt_number": 12
    },
    {
     "cell_type": "code",
     "collapsed": false,
     "input": [
      "FRAG_SHADER = \"\"\"\n",
      "\n",
      "uniform float u_time;\n",
      "\n",
      "varying float v_color;\n",
      "\n",
      "void main()\n",
      "{\n",
      "    gl_FragColor = vec4(1.0, v_color, 0.0, 1.0);\n",
      "}\n",
      "\"\"\""
     ],
     "language": "python",
     "metadata": {
      "slideshow": {
       "slide_type": "subslide"
      }
     },
     "outputs": [],
     "prompt_number": 13
    },
    {
     "cell_type": "code",
     "collapsed": false,
     "input": [
      "class Canvas(app.Canvas):\n",
      "    def __init__(self):\n",
      "        app.Canvas.__init__(self, close_keys='escape')\n",
      "        self.program = gloo.Program(VERT_SHADER, FRAG_SHADER)\n",
      "        self.program['a_position'] = gloo.VertexBuffer(position)\n",
      "        self.program['a_color'] = gloo.VertexBuffer(color)\n",
      "\n",
      "        self._timer = app.Timer(1.0 / 60)\n",
      "        self._timer.connect(self.on_timer)\n",
      "        self._timer.start()\n",
      "        \n",
      "    def on_timer(self, event):\n",
      "        self.program['u_time'] = event.iteration * 1./60\n",
      "        self.update()"
     ],
     "language": "python",
     "metadata": {
      "slideshow": {
       "slide_type": "subslide"
      }
     },
     "outputs": []
    },
    {
     "cell_type": "code",
     "collapsed": false,
     "input": [
      "def on_resize(self, event):\n",
      "    width, height = event.size\n",
      "    gloo.set_viewport(0, 0, width, height)\n",
      "\n",
      "def on_draw(self, event):\n",
      "    gloo.clear(color=(0.0, 0.0, 0.0, 1.0))\n",
      "    self.program.draw('triangle_strip')\n",
      "    \n",
      "Canvas.on_resize = on_resize\n",
      "Canvas.on_draw = on_draw"
     ],
     "language": "python",
     "metadata": {
      "slideshow": {
       "slide_type": "subslide"
      }
     },
     "outputs": [],
     "prompt_number": 14
    },
    {
     "cell_type": "code",
     "collapsed": false,
     "input": [
      "c = Canvas()\n",
      "c.show()\n",
      "app.run()"
     ],
     "language": "python",
     "metadata": {
      "slideshow": {
       "slide_type": "subslide"
      }
     },
     "outputs": [],
     "prompt_number": 15
    },
    {
     "cell_type": "markdown",
     "metadata": {
      "slideshow": {
       "slide_type": "slide"
      }
     },
     "source": [
      "## Demos\n",
      "\n",
      "![](images/screenshots.PNG)"
     ]
    },
    {
     "cell_type": "markdown",
     "metadata": {
      "slideshow": {
       "slide_type": "slide"
      }
     },
     "source": [
      "## Tutorial par N. Rougier\n",
      "\n",
      "[www.loria.fr/~rougier/teaching/opengl/](http://www.loria.fr/~rougier/teaching/opengl/)"
     ]
    },
    {
     "cell_type": "markdown",
     "metadata": {
      "slideshow": {
       "slide_type": "slide"
      }
     },
     "source": [
      "## Exercices: signaux\n",
      "\n",
      "1. Display a line plot of 100 data, vertically centered going from left to right\n",
      "\n",
      "2. Animate the previous plot by generating whole new y data at each new frame.\n",
      "\n",
      "3. Animate the previous plot by updating only one at at time.\n",
      "\n",
      "4. Same as above but find a way to (visually) indicate where data is updated.\n",
      "\n",
      "5. Display two animated signals one on top, one on bottom\n",
      "\n",
      "6. Display 10 signals on top of each other.\n",
      "\n",
      "7. Get rid ot spurious lines in the previous example.\n",
      "\n",
      "8. Animate 100 signals of 500 points each using techniques from 4."
     ]
    }
   ],
   "metadata": {}
  }
 ]
}